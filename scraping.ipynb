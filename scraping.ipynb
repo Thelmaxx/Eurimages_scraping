{
 "cells": [
  {
   "cell_type": "code",
   "execution_count": 1,
   "metadata": {},
   "outputs": [],
   "source": [
    "# import pandas as pd\n",
    "# import matplotlib.pyplot as plt\n",
    "# import numpy as np\n",
    "# import re\n",
    "# from bs4 import BeautifulSoup\n",
    "# import requests as req\n",
    "import json\n",
    "\n",
    "# from tqdm import tqdm\n",
    "# import itertools\n",
    "# from unidecode import unidecode\n",
    "# import time \n",
    "\n",
    "from tqdm.notebook  import tqdm\n",
    "from selenium import webdriver\n",
    "from selenium.webdriver.common.by import By\n",
    "\n",
    "\n",
    "from selenium.webdriver.chrome.options import Options\n",
    "\n",
    "import imdb_scraping as aw\n",
    "\n",
    "\n",
    "\n",
    "tqdm.pandas()"
   ]
  },
  {
   "cell_type": "markdown",
   "metadata": {},
   "source": [
    "# IMDb Awards"
   ]
  },
  {
   "cell_type": "code",
   "execution_count": 2,
   "metadata": {},
   "outputs": [
    {
     "name": "stdout",
     "output_type": "stream",
     "text": [
      "imdb id : tt17009710\n"
     ]
    }
   ],
   "source": [
    "\n",
    "driver = webdriver.Edge()\n",
    "driver.get(\"https://www.imdb.com/event/ev0000147/2023/1\")\n",
    "\n",
    "\n",
    "id=driver.find_elements(By.CLASS_NAME, \"event-widgets__award\")[0].find_elements(By.CLASS_NAME, \"event-widgets__award-nomination\")[0].find_element(By.CLASS_NAME, \"event-widgets__primary-nominees [href]\").get_attribute('href').split('/')[4]\n",
    "print(\"imdb id :\",id)\n",
    "driver.close()"
   ]
  },
  {
   "cell_type": "code",
   "execution_count": 3,
   "metadata": {},
   "outputs": [],
   "source": [
    "def is_winner(nominee):\n",
    "    try:\n",
    "        nominee.find_element(By.CLASS_NAME, \"event-widgets__winner-badge\")\n",
    "        return True\n",
    "    except:\n",
    "        return False"
   ]
  },
  {
   "cell_type": "code",
   "execution_count": 4,
   "metadata": {},
   "outputs": [],
   "source": [
    "def is_name(nominee):\n",
    "    return 'name' in nominee.get_attribute('href')[:25]"
   ]
  },
  {
   "cell_type": "code",
   "execution_count": 5,
   "metadata": {},
   "outputs": [],
   "source": [
    "def has_categories(award):\n",
    "    try:\n",
    "        award.find_element(By.CLASS_NAME, \"event-widgets__award-categories\")\n",
    "        return True\n",
    "    except:\n",
    "        return False"
   ]
  },
  {
   "cell_type": "code",
   "execution_count": 6,
   "metadata": {},
   "outputs": [],
   "source": [
    "def get_awards(url):\n",
    "    driver = webdriver.Edge()\n",
    "    driver.get(url)\n",
    "    try:\n",
    "        award_list=driver.find_elements(By.CLASS_NAME, \"event-widgets__award\")\n",
    "\n",
    "        awards=dict()\n",
    "        for award in tqdm(award_list):\n",
    "\n",
    "            award_subcategory=award.find_elements(By.CLASS_NAME, \"event-widgets__award-category\")\n",
    "\n",
    "            for sub_award in award_subcategory: # if there is no subcategory this loop will execute only one time normally\n",
    "                if len(award_subcategory)>1:\n",
    "                    award_name=award.find_element(By.CLASS_NAME, \"event-widgets__award-name\").text+' - '+sub_award.find_element(By.CLASS_NAME,\"event-widgets__award-category-name\").text\n",
    "                else:\n",
    "                    award_name=award.find_element(By.CLASS_NAME, \"event-widgets__award-name\").text\n",
    "                nominees_list=[]\n",
    "                for nominee in sub_award.find_elements(By.CLASS_NAME, \"event-widgets__award-nomination\"):\n",
    "                    \n",
    "                    temp_nominee_dict=dict()\n",
    "                    primary=nominee.find_element(By.CLASS_NAME, \"event-widgets__primary-nominees [href]\")\n",
    "                    secondary=nominee.find_element(By.CLASS_NAME, \"event-widgets__secondary-nominees\") # here we don't need the [href] as it's enough to test the primary and sometimes there is only the primary\n",
    "\n",
    "                    if is_name(primary): # tests if the primary component is a name of a person or title of a film using the provided url\n",
    "                        temp_nominee_dict[\"director/name\"]=primary.text\n",
    "                        temp_nominee_dict[\"title\"]=secondary.text\n",
    "                        temp_nominee_dict[\"original_title\"]=nominee.find_element(By.CLASS_NAME, \"event-widgets__original-title--secondary\").text.removesuffix(\" (original title)\")\n",
    "                        if len(secondary.text)>0:\n",
    "                            temp_nominee_dict[\"imdb_id\"]=nominee.find_element(By.CLASS_NAME, \"event-widgets__secondary-nominees [href]\").get_attribute('href').split('/')[4]\n",
    "                        else:\n",
    "                            temp_nominee_dict[\"imdb_id\"]=''\n",
    "                    else:\n",
    "                        temp_nominee_dict[\"director/name\"]=secondary.text\n",
    "                        temp_nominee_dict[\"title\"]=primary.text\n",
    "                        temp_nominee_dict[\"original_title\"]=nominee.find_element(By.CLASS_NAME, \"event-widgets__original-title--primary\").text.removesuffix(\" (original title)\")\n",
    "                        temp_nominee_dict[\"imdb_id\"]=primary.get_attribute('href').split('/')[4]\n",
    "\n",
    "                    temp_nominee_dict[\"winner\"]=is_winner(nominee)\n",
    "                    nominees_list.append(temp_nominee_dict)\n",
    "                awards[award_name]=nominees_list\n",
    "\n",
    "        driver.close()\n",
    "        return awards\n",
    "    \n",
    "    except Exception as e:\n",
    "        driver.close()\n",
    "        print(f\"error : {e}\")\n",
    "\n",
    "    "
   ]
  },
  {
   "cell_type": "code",
   "execution_count": 9,
   "metadata": {},
   "outputs": [
    {
     "data": {
      "application/vnd.jupyter.widget-view+json": {
       "model_id": "9100565d3094484e8c8407b0c62cf71b",
       "version_major": 2,
       "version_minor": 0
      },
      "text/plain": [
       "  0%|          | 0/13 [00:02<?, ?it/s]"
      ]
     },
     "metadata": {},
     "output_type": "display_data"
    },
    {
     "data": {
      "text/plain": [
       "{'CPH:DOX Award': [{'director/name': 'Alessandra Celesia',\n",
       "   'title': 'The Flats',\n",
       "   'original_title': '',\n",
       "   'imdb_id': 'tt31438434',\n",
       "   'winner': True},\n",
       "  {'director/name': 'Sissel Morell Dargis',\n",
       "   'title': 'Balomania',\n",
       "   'original_title': '',\n",
       "   'imdb_id': 'tt13073638',\n",
       "   'winner': False},\n",
       "  {'director/name': 'Beatrice Minger, Christoph Schaub',\n",
       "   'title': 'E.1027 - Eileen Gray and the House by the Sea',\n",
       "   'original_title': '',\n",
       "   'imdb_id': 'tt31597947',\n",
       "   'winner': False},\n",
       "  {'director/name': 'Maja Tschumi',\n",
       "   'title': 'Immortals',\n",
       "   'original_title': '',\n",
       "   'imdb_id': 'tt18298510',\n",
       "   'winner': False},\n",
       "  {'director/name': 'Alexis Pazoumian',\n",
       "   'title': 'Jardin noir',\n",
       "   'original_title': '',\n",
       "   'imdb_id': 'tt31598117',\n",
       "   'winner': False},\n",
       "  {'director/name': 'Max Kestner',\n",
       "   'title': 'Life and Other Problems',\n",
       "   'original_title': '',\n",
       "   'imdb_id': 'tt31152353',\n",
       "   'winner': False},\n",
       "  {'director/name': 'Victoria Mapplebeck',\n",
       "   'title': 'Motherboard',\n",
       "   'original_title': '',\n",
       "   'imdb_id': 'tt16242538',\n",
       "   'winner': False},\n",
       "  {'director/name': 'Truman',\n",
       "   'title': 'Night of Nights',\n",
       "   'original_title': '',\n",
       "   'imdb_id': 'tt31428254',\n",
       "   'winner': False},\n",
       "  {'director/name': 'Virpi Suutari',\n",
       "   'title': 'Once Upon a Time in a Forest',\n",
       "   'original_title': '',\n",
       "   'imdb_id': 'tt29044978',\n",
       "   'winner': False},\n",
       "  {'director/name': 'Håvard Bustnes',\n",
       "   'title': 'Phantoms of the Sierra Madre',\n",
       "   'original_title': '',\n",
       "   'imdb_id': 'tt31598172',\n",
       "   'winner': False},\n",
       "  {'director/name': 'Manon Ouimet, Jacob Perlmutter',\n",
       "   'title': 'Two Strangers Trying Not to Kill Each Other',\n",
       "   'original_title': '',\n",
       "   'imdb_id': 'tt30320489',\n",
       "   'winner': False},\n",
       "  {'director/name': 'Lisa Jackson',\n",
       "   'title': 'Wilfred Buck',\n",
       "   'original_title': '',\n",
       "   'imdb_id': 'tt31597907',\n",
       "   'winner': False}],\n",
       " 'CPH:DOX Award - Honorable Mention': [{'director/name': 'Manon Ouimet, Jacob Perlmutter',\n",
       "   'title': 'Two Strangers Trying Not to Kill Each Other',\n",
       "   'original_title': '',\n",
       "   'imdb_id': 'tt30320489',\n",
       "   'winner': True}],\n",
       " 'New Vision Award': [{'director/name': 'Aura Satz',\n",
       "   'title': 'Preemptive Listening',\n",
       "   'original_title': '',\n",
       "   'imdb_id': 'tt31790421',\n",
       "   'winner': True},\n",
       "  {'director/name': 'Arwa Aburawa, Turab Shah',\n",
       "   'title': 'And still, it remains',\n",
       "   'original_title': '',\n",
       "   'imdb_id': 'tt28943224',\n",
       "   'winner': False},\n",
       "  {'director/name': 'Morgan Quaintance',\n",
       "   'title': 'Efforts of Nature',\n",
       "   'original_title': '',\n",
       "   'imdb_id': 'tt30629590',\n",
       "   'winner': False},\n",
       "  {'director/name': 'Sasha Litvintseva, Beny Wagner',\n",
       "   'title': 'My Want of You Partakes of Me',\n",
       "   'original_title': '',\n",
       "   'imdb_id': 'tt31790495',\n",
       "   'winner': False},\n",
       "  {'director/name': 'Sandra Ignagni',\n",
       "   'title': 'Ottu',\n",
       "   'original_title': '',\n",
       "   'imdb_id': 'tt31325707',\n",
       "   'winner': False}],\n",
       " 'New Vision Award - Honorable Mention': [{'director/name': 'Sasha Litvintseva, Beny Wagner',\n",
       "   'title': 'My Want of You Partakes of Me',\n",
       "   'original_title': '',\n",
       "   'imdb_id': 'tt31790495',\n",
       "   'winner': True}],\n",
       " 'F:ACT Award': [{'director/name': 'Alina Simone',\n",
       "   'title': 'Black Snow',\n",
       "   'original_title': '',\n",
       "   'imdb_id': 'tt31462874',\n",
       "   'winner': True},\n",
       "  {'director/name': 'David Borenstein',\n",
       "   'title': \"Can't Feel Nothing\",\n",
       "   'original_title': '',\n",
       "   'imdb_id': 'tt27634865',\n",
       "   'winner': False},\n",
       "  {'director/name': 'Christian Als, Knud Brix, Kristoffer Juel Poulsen',\n",
       "   'title': 'Daughter of Genghis',\n",
       "   'original_title': '',\n",
       "   'imdb_id': 'tt31514896',\n",
       "   'winner': False},\n",
       "  {'director/name': 'Connie Field',\n",
       "   'title': 'Democracy Noir',\n",
       "   'original_title': '',\n",
       "   'imdb_id': 'tt31640201',\n",
       "   'winner': False},\n",
       "  {'director/name': 'Apolena Rychlíková',\n",
       "   'title': \"Invisibles - Les travailleurs de l'Europe de l'Est\",\n",
       "   'original_title': 'Hranice Evropy',\n",
       "   'imdb_id': 'tt29358456',\n",
       "   'winner': False},\n",
       "  {'director/name': 'Bår Tyrmi',\n",
       "   'title': 'Lie to Me',\n",
       "   'original_title': '',\n",
       "   'imdb_id': 'tt31656529',\n",
       "   'winner': False},\n",
       "  {'director/name': 'Elina Psykou',\n",
       "   'title': 'Stray Bodies',\n",
       "   'original_title': 'Adespota kormia',\n",
       "   'imdb_id': 'tt30323675',\n",
       "   'winner': False},\n",
       "  {'director/name': 'Daphne Matziaraki, Peter Murimi',\n",
       "   'title': 'The Battle for Laikipia',\n",
       "   'original_title': '',\n",
       "   'imdb_id': 'tt30320463',\n",
       "   'winner': False},\n",
       "  {'director/name': 'Stephen Maing, Brett Story',\n",
       "   'title': 'Union',\n",
       "   'original_title': '',\n",
       "   'imdb_id': 'tt30319916',\n",
       "   'winner': False}],\n",
       " 'Sound & Vision Award': [{'director/name': 'Nick Broomfield, Kyle Gibbon, Marc Hoeferlin, Shani Hinton',\n",
       "   'title': 'The Stones and Brian Jones',\n",
       "   'original_title': '',\n",
       "   'imdb_id': 'tt27696645',\n",
       "   'winner': False}],\n",
       " 'NEXT:WAVE Award': [{'director/name': 'Atiye Zare Arandi',\n",
       "   'title': 'Grand Me',\n",
       "   'original_title': '',\n",
       "   'imdb_id': 'tt31624522',\n",
       "   'winner': True},\n",
       "  {'director/name': 'Rachel Daisy Ellis',\n",
       "   'title': 'Eros',\n",
       "   'original_title': '',\n",
       "   'imdb_id': 'tt31487448',\n",
       "   'winner': False},\n",
       "  {'director/name': 'Loran Batti',\n",
       "   'title': 'G - 21 Scenes from Gottsunda',\n",
       "   'original_title': 'G - 21 scener från Gottsunda',\n",
       "   'imdb_id': 'tt31805159',\n",
       "   'winner': False},\n",
       "  {'director/name': 'Dávid Mikulán, Bálint Révész',\n",
       "   'title': 'Kix',\n",
       "   'original_title': '',\n",
       "   'imdb_id': 'tt32034405',\n",
       "   'winner': False},\n",
       "  {'director/name': 'Vadim Dumesh',\n",
       "   'title': 'La Base',\n",
       "   'original_title': '',\n",
       "   'imdb_id': 'tt27157750',\n",
       "   'winner': False},\n",
       "  {'director/name': 'Zia Anger',\n",
       "   'title': 'My First Film',\n",
       "   'original_title': '',\n",
       "   'imdb_id': 'tt23778542',\n",
       "   'winner': False},\n",
       "  {'director/name': 'Scott Cummings',\n",
       "   'title': 'Realm of Satan',\n",
       "   'original_title': '',\n",
       "   'imdb_id': 'tt12309944',\n",
       "   'winner': False},\n",
       "  {'director/name': 'Inadelso Cossa',\n",
       "   'title': 'The Nights Still Smell of Gunpowder',\n",
       "   'original_title': '',\n",
       "   'imdb_id': 'tt19812986',\n",
       "   'winner': False}],\n",
       " 'NORDIC:DOX Award': [{'director/name': 'Roja Pakari',\n",
       "   'title': 'The Son and the Moon',\n",
       "   'original_title': '',\n",
       "   'imdb_id': 'tt31870180',\n",
       "   'winner': True},\n",
       "  {'director/name': 'Loran Batti',\n",
       "   'title': 'G - 21 Scenes from Gottsunda',\n",
       "   'original_title': 'G - 21 scener från Gottsunda',\n",
       "   'imdb_id': 'tt31805159',\n",
       "   'winner': False},\n",
       "  {'director/name': 'Anna-Maija Heinonen, Krista Moisio',\n",
       "   'title': 'Hard to Break',\n",
       "   'original_title': '',\n",
       "   'imdb_id': 'tt20446456',\n",
       "   'winner': False},\n",
       "  {'director/name': 'Max Kestner',\n",
       "   'title': 'Life and Other Problems',\n",
       "   'original_title': '',\n",
       "   'imdb_id': 'tt31152353',\n",
       "   'winner': False},\n",
       "  {'director/name': 'Kari Anne Moe',\n",
       "   'title': 'Mina and the Radio Bandits',\n",
       "   'original_title': '',\n",
       "   'imdb_id': 'tt29521968',\n",
       "   'winner': False},\n",
       "  {'director/name': 'Virpi Suutari',\n",
       "   'title': 'Once Upon a Time in a Forest',\n",
       "   'original_title': '',\n",
       "   'imdb_id': 'tt29044978',\n",
       "   'winner': False},\n",
       "  {'director/name': 'Rosalinde Mynster, Jasper Spanning',\n",
       "   'title': 'Our Father Wears a Sun',\n",
       "   'original_title': 'Vores fars sol',\n",
       "   'imdb_id': 'tt31170824',\n",
       "   'winner': False},\n",
       "  {'director/name': 'Håvard Bustnes',\n",
       "   'title': 'Phantoms of the Sierra Madre',\n",
       "   'original_title': '',\n",
       "   'imdb_id': 'tt31598172',\n",
       "   'winner': False}],\n",
       " 'NEXT:WAVE Award - Honorable Mention': [{'director/name': 'Loran Batti',\n",
       "   'title': 'G - 21 Scenes from Gottsunda',\n",
       "   'original_title': 'G - 21 scener från Gottsunda',\n",
       "   'imdb_id': 'tt31805159',\n",
       "   'winner': True}],\n",
       " 'NORDIC:DOX Award - Honorable Mention': [{'director/name': 'Loran Batti',\n",
       "   'title': 'G - 21 Scenes from Gottsunda',\n",
       "   'original_title': 'G - 21 scener från Gottsunda',\n",
       "   'imdb_id': 'tt31805159',\n",
       "   'winner': True}],\n",
       " 'Human Rights Award': [{'director/name': 'Shiori Ito',\n",
       "   'title': 'Black Box Diaries',\n",
       "   'original_title': '',\n",
       "   'imdb_id': 'tt30227076',\n",
       "   'winner': True},\n",
       "  {'director/name': 'Ivan Sautkin',\n",
       "   'title': 'A Poem for Little People',\n",
       "   'original_title': '',\n",
       "   'imdb_id': 'tt29429585',\n",
       "   'winner': False},\n",
       "  {'director/name': 'Tal Barda',\n",
       "   'title': 'I Shall Not Hate',\n",
       "   'original_title': '',\n",
       "   'imdb_id': 'tt31889233',\n",
       "   'winner': False},\n",
       "  {'director/name': 'Apolena Rychlíková',\n",
       "   'title': \"Invisibles - Les travailleurs de l'Europe de l'Est\",\n",
       "   'original_title': 'Hranice Evropy',\n",
       "   'imdb_id': 'tt29358456',\n",
       "   'winner': False},\n",
       "  {'director/name': 'Kinshuk Surjan',\n",
       "   'title': 'Marching in the Dark',\n",
       "   'original_title': '',\n",
       "   'imdb_id': 'tt31549290',\n",
       "   'winner': False},\n",
       "  {'director/name': 'Hasan Oswald',\n",
       "   'title': 'Mediha',\n",
       "   'original_title': '',\n",
       "   'imdb_id': 'tt27561780',\n",
       "   'winner': False},\n",
       "  {'director/name': 'Yance Ford',\n",
       "   'title': 'Power',\n",
       "   'original_title': '',\n",
       "   'imdb_id': 'tt30321114',\n",
       "   'winner': False},\n",
       "  {'director/name': 'Agnieszka Zwiefka (director)',\n",
       "   'title': 'Silent Trees',\n",
       "   'original_title': '',\n",
       "   'imdb_id': 'tt31317821',\n",
       "   'winner': False},\n",
       "  {'director/name': 'Ellen Ugelstad',\n",
       "   'title': 'The Recovery Channel',\n",
       "   'original_title': '',\n",
       "   'imdb_id': 'tt18397930',\n",
       "   'winner': False},\n",
       "  {'director/name': 'Nanna Frank Møller, Zlatko Pranjic',\n",
       "   'title': 'The Sky Above Zenica',\n",
       "   'original_title': '',\n",
       "   'imdb_id': 'tt31863474',\n",
       "   'winner': False}],\n",
       " 'Human Rights Award - Special Mention': [{'director/name': 'Kinshuk Surjan',\n",
       "   'title': 'Marching in the Dark',\n",
       "   'original_title': '',\n",
       "   'imdb_id': 'tt31549290',\n",
       "   'winner': True}],\n",
       " 'Audience Award': [{'director/name': 'Yuval Abraham, Basel Adra, Rachel Szor, Hamdan Ballal, Bård Kjøge Rønning, Fabien Greenberg',\n",
       "   'title': 'No Other Land',\n",
       "   'original_title': '',\n",
       "   'imdb_id': 'tt30953759',\n",
       "   'winner': True}]}"
      ]
     },
     "execution_count": 9,
     "metadata": {},
     "output_type": "execute_result"
    }
   ],
   "source": [
    "get_awards(\"https://www.imdb.com/event/ev0000982/\")"
   ]
  },
  {
   "cell_type": "markdown",
   "metadata": {},
   "source": [
    "# tests"
   ]
  },
  {
   "cell_type": "code",
   "execution_count": 3,
   "metadata": {},
   "outputs": [
    {
     "data": {
      "application/vnd.jupyter.widget-view+json": {
       "model_id": "1b2623dd381044569cfadf56d0fcdd17",
       "version_major": 2,
       "version_minor": 0
      },
      "text/plain": [
       "  0%|          | 0/14 [00:00<?, ?it/s]"
      ]
     },
     "metadata": {},
     "output_type": "display_data"
    },
    {
     "data": {
      "application/vnd.jupyter.widget-view+json": {
       "model_id": "e0eeaf9dd7b2420ea002bf58b7bdf621",
       "version_major": 2,
       "version_minor": 0
      },
      "text/plain": [
       "  0%|          | 0/17 [00:00<?, ?it/s]"
      ]
     },
     "metadata": {},
     "output_type": "display_data"
    },
    {
     "data": {
      "application/vnd.jupyter.widget-view+json": {
       "model_id": "2e7390c685c24906b76755dd67203dba",
       "version_major": 2,
       "version_minor": 0
      },
      "text/plain": [
       "  0%|          | 0/17 [00:00<?, ?it/s]"
      ]
     },
     "metadata": {},
     "output_type": "display_data"
    },
    {
     "data": {
      "application/vnd.jupyter.widget-view+json": {
       "model_id": "c49d342290f74b58b26de8e505545225",
       "version_major": 2,
       "version_minor": 0
      },
      "text/plain": [
       "  0%|          | 0/17 [00:00<?, ?it/s]"
      ]
     },
     "metadata": {},
     "output_type": "display_data"
    },
    {
     "data": {
      "application/vnd.jupyter.widget-view+json": {
       "model_id": "1151b958bf884558bdf6e8e6387ac8eb",
       "version_major": 2,
       "version_minor": 0
      },
      "text/plain": [
       "  0%|          | 0/17 [00:00<?, ?it/s]"
      ]
     },
     "metadata": {},
     "output_type": "display_data"
    },
    {
     "data": {
      "application/vnd.jupyter.widget-view+json": {
       "model_id": "435739f8b3484a849843487e294b3d7a",
       "version_major": 2,
       "version_minor": 0
      },
      "text/plain": [
       "  0%|          | 0/17 [00:00<?, ?it/s]"
      ]
     },
     "metadata": {},
     "output_type": "display_data"
    },
    {
     "data": {
      "application/vnd.jupyter.widget-view+json": {
       "model_id": "8108a740fde44dc2ab1f44d3d8d44571",
       "version_major": 2,
       "version_minor": 0
      },
      "text/plain": [
       "  0%|          | 0/17 [00:00<?, ?it/s]"
      ]
     },
     "metadata": {},
     "output_type": "display_data"
    },
    {
     "data": {
      "application/vnd.jupyter.widget-view+json": {
       "model_id": "9ee34a3c236647b6bbab672f74d117c0",
       "version_major": 2,
       "version_minor": 0
      },
      "text/plain": [
       "  0%|          | 0/17 [00:00<?, ?it/s]"
      ]
     },
     "metadata": {},
     "output_type": "display_data"
    },
    {
     "data": {
      "application/vnd.jupyter.widget-view+json": {
       "model_id": "feeaf2c57df248daad2d7c0c7f7b7f55",
       "version_major": 2,
       "version_minor": 0
      },
      "text/plain": [
       "  0%|          | 0/17 [00:00<?, ?it/s]"
      ]
     },
     "metadata": {},
     "output_type": "display_data"
    },
    {
     "data": {
      "application/vnd.jupyter.widget-view+json": {
       "model_id": "69334e17628847e18e235937cb513e23",
       "version_major": 2,
       "version_minor": 0
      },
      "text/plain": [
       "  0%|          | 0/17 [00:00<?, ?it/s]"
      ]
     },
     "metadata": {},
     "output_type": "display_data"
    },
    {
     "data": {
      "application/vnd.jupyter.widget-view+json": {
       "model_id": "3edb5376216d40be8d7756fc2f306ac0",
       "version_major": 2,
       "version_minor": 0
      },
      "text/plain": [
       "  0%|          | 0/17 [00:00<?, ?it/s]"
      ]
     },
     "metadata": {},
     "output_type": "display_data"
    },
    {
     "name": "stdout",
     "output_type": "stream",
     "text": [
      "error URL= https://www.imdb.com/event/ev0001559/2018/1 : Message: no such element: Unable to locate element: {\"method\":\"css selector\",\"selector\":\".event-widgets__primary-nominees [href]\"}\n",
      "  (Session info: edge-headless-shell=126.0.2592.87); For documentation on this error, please visit: https://www.selenium.dev/documentation/webdriver/troubleshooting/errors#no-such-element-exception\n",
      "Stacktrace:\n",
      "\tGetHandleVerifier [0x00007FF6F2458132+13538]\n",
      "\tMicrosoft::Applications::Events::EventProperty::~EventProperty [0x00007FF6F23E1DE9+595465]\n",
      "\t(No symbol) [0x00007FF6F21FE6CF]\n",
      "\t(No symbol) [0x00007FF6F2242960]\n",
      "\t(No symbol) [0x00007FF6F2242A1F]\n",
      "\t(No symbol) [0x00007FF6F223819C]\n",
      "\t(No symbol) [0x00007FF6F226203F]\n",
      "\t(No symbol) [0x00007FF6F2238147]\n",
      "\t(No symbol) [0x00007FF6F223800D]\n",
      "\t(No symbol) [0x00007FF6F22622E0]\n",
      "\t(No symbol) [0x00007FF6F2238147]\n",
      "\t(No symbol) [0x00007FF6F227B1EE]\n",
      "\t(No symbol) [0x00007FF6F2261C63]\n",
      "\t(No symbol) [0x00007FF6F223766E]\n",
      "\t(No symbol) [0x00007FF6F223683C]\n",
      "\t(No symbol) [0x00007FF6F2237221]\n",
      "\tMicrosoft::Applications::Events::EventProperty::to_string [0x00007FF6F26196D4+1099860]\n",
      "\tMicrosoft::Applications::Events::EventProperty::~EventProperty [0x00007FF6F235D8FC+53532]\n",
      "\tMicrosoft::Applications::Events::EventProperty::~EventProperty [0x00007FF6F2350E25+1605]\n",
      "\tMicrosoft::Applications::Events::EventProperty::to_string [0x00007FF6F2618665+1095653]\n",
      "\tMicrosoft::Applications::Events::ILogConfiguration::operator* [0x00007FF6F23EC961+27777]\n",
      "\tMicrosoft::Applications::Events::ILogConfiguration::operator* [0x00007FF6F23E6CE4+4100]\n",
      "\tMicrosoft::Applications::Events::ILogConfiguration::operator* [0x00007FF6F23E6E1B+4411]\n",
      "\tMicrosoft::Applications::Events::EventProperty::~EventProperty [0x00007FF6F23DCFA0+575424]\n",
      "\tBaseThreadInitThunk [0x00007FFDA7BF257D+29]\n",
      "\tRtlUserThreadStart [0x00007FFDA93AAF28+40]\n",
      "\n"
     ]
    },
    {
     "data": {
      "application/vnd.jupyter.widget-view+json": {
       "model_id": "5014e07018b3487f8ce5ba0852195d0e",
       "version_major": 2,
       "version_minor": 0
      },
      "text/plain": [
       "  0%|          | 0/17 [00:00<?, ?it/s]"
      ]
     },
     "metadata": {},
     "output_type": "display_data"
    },
    {
     "data": {
      "application/vnd.jupyter.widget-view+json": {
       "model_id": "e0316791e49f4dbaaf0ab9a255fbf2d9",
       "version_major": 2,
       "version_minor": 0
      },
      "text/plain": [
       "  0%|          | 0/17 [00:00<?, ?it/s]"
      ]
     },
     "metadata": {},
     "output_type": "display_data"
    },
    {
     "data": {
      "application/vnd.jupyter.widget-view+json": {
       "model_id": "6d40f48aecc94de2a79fea059821c1b9",
       "version_major": 2,
       "version_minor": 0
      },
      "text/plain": [
       "  0%|          | 0/17 [00:00<?, ?it/s]"
      ]
     },
     "metadata": {},
     "output_type": "display_data"
    },
    {
     "data": {
      "application/vnd.jupyter.widget-view+json": {
       "model_id": "420e52e00e254cc5a30a23d4f398b898",
       "version_major": 2,
       "version_minor": 0
      },
      "text/plain": [
       "  0%|          | 0/17 [00:00<?, ?it/s]"
      ]
     },
     "metadata": {},
     "output_type": "display_data"
    }
   ],
   "source": [
    "festivals_presence=dict()\n",
    "for award in tqdm(aw.ALL_FESTIVALS):\n",
    "    festivals_presence[award]=dict()\n",
    "    festivals_presence[award][2007]=aw.get_awards(aw.ALL_FESTIVALS[award]+'2007/1')\n",
    "    for y in tqdm(range(2008,2025)):\n",
    "        festivals_presence[award][y]=aw.get_awards(aw.ALL_FESTIVALS[award]+f'{y}/1')"
   ]
  },
  {
   "cell_type": "code",
   "execution_count": 8,
   "metadata": {},
   "outputs": [],
   "source": [
    "out_file = open(\"external_data/festivals_2007_2024.json\", \"w\")\n",
    "\n",
    "json.dump(festivals_presence, out_file, indent = 3)\n",
    "\n",
    "out_file.close()\n"
   ]
  },
  {
   "cell_type": "code",
   "execution_count": 4,
   "metadata": {},
   "outputs": [
    {
     "ename": "NameError",
     "evalue": "name 'festivals_presence' is not defined",
     "output_type": "error",
     "traceback": [
      "\u001b[1;31m---------------------------------------------------------------------------\u001b[0m",
      "\u001b[1;31mNameError\u001b[0m                                 Traceback (most recent call last)",
      "Cell \u001b[1;32mIn[4], line 1\u001b[0m\n\u001b[1;32m----> 1\u001b[0m \u001b[43mfestivals_presence\u001b[49m\u001b[38;5;241m.\u001b[39mkeys()\n",
      "\u001b[1;31mNameError\u001b[0m: name 'festivals_presence' is not defined"
     ]
    }
   ],
   "source": [
    "festivals_presence"
   ]
  },
  {
   "cell_type": "code",
   "execution_count": 5,
   "metadata": {},
   "outputs": [],
   "source": [
    "festifile = open(\"external_data/festivals_2007_2024.json\", \"r\")\n",
    "festi=json.load(festifile)\n"
   ]
  },
  {
   "cell_type": "code",
   "execution_count": 9,
   "metadata": {},
   "outputs": [],
   "source": [
    "festi[\"poff\"]['2018']"
   ]
  },
  {
   "cell_type": "markdown",
   "metadata": {},
   "source": [
    "# next"
   ]
  },
  {
   "cell_type": "code",
   "execution_count": 5,
   "metadata": {},
   "outputs": [
    {
     "name": "stdout",
     "output_type": "stream",
     "text": [
      "0\n",
      "tortue\n",
      "1\n",
      "tortue\n",
      "2\n",
      "tortue\n",
      "3\n",
      "tortue\n",
      "4\n",
      "tortue\n"
     ]
    }
   ],
   "source": []
  }
 ],
 "metadata": {
  "kernelspec": {
   "display_name": "Python 3",
   "language": "python",
   "name": "python3"
  },
  "language_info": {
   "codemirror_mode": {
    "name": "ipython",
    "version": 3
   },
   "file_extension": ".py",
   "mimetype": "text/x-python",
   "name": "python",
   "nbconvert_exporter": "python",
   "pygments_lexer": "ipython3",
   "version": "3.11.5"
  }
 },
 "nbformat": 4,
 "nbformat_minor": 2
}

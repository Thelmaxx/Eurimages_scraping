{
 "cells": [
  {
   "cell_type": "code",
   "execution_count": 1,
   "metadata": {},
   "outputs": [],
   "source": [
    "from whoosh.analysis import StandardAnalyzer\n",
    "from whoosh.index import create_in\n",
    "from whoosh.fields import Schema, TEXT, ID\n",
    "from whoosh.qparser import MultifieldParser, FuzzyTermPlugin\n",
    "import os\n",
    "\n",
    "# Liste de stop words en anglais\n",
    "stop_words = set([\n",
    "    \"a\", \"about\", \"above\", \"after\", \"again\", \"against\", \"all\", \"am\", \"an\", \"and\", \"any\", \"are\", \n",
    "    \"aren't\", \"aren't\", \"as\", \"at\", \"be\", \"because\", \"been\", \"before\", \"being\", \"below\", \"between\", \n",
    "    \"both\", \"but\", \"by\", \"can't\", \"cannot\", \"could\", \"couldn't\", \"did\", \"didn't\", \"does\", \"doesn't\", \n",
    "    \"don't\", \"down\", \"during\", \"each\", \"few\", \"for\", \"from\", \"had\", \"hadn't\", \"has\", \n",
    "    \"hasn't\", \"have\", \"haven't\", \"having\", \"here\", \"here's\", \"here's\", \"how\", \"how's\", \"how's\", \n",
    "    \"i\", \"i'm\", \"i've\", \"if\", \"in\", \"into\", \"is\", \"isn't\", \"it\", \"it's\", \"itself\", \"let\", \"more\", \n",
    "    \"most\", \"my\", \"myself\", \"of\", \"off\", \"on\", \"once\", \"only\", \"or\", \"other\", \"ought\", \"our\", \n",
    "    \"ours\", \"ourselves\", \"out\", \"over\", \"own\", \"same\", \"so\", \"than\", \"that\", \"that's\", \"that've\", \n",
    "    \"the\", \"theirs\", \"theirs\", \"them\", \"themselves\", \"then\", \"there\", \"there's\", \"there's\", \"therefore\", \n",
    "    \"these\", \"they\", \"they're\", \"they've\", \"this\", \"those\", \"through\", \"to\", \"under\", \"until\", \"up\", \n",
    "    \"very\", \"was\", \"wasn't\", \"were\", \"weren't\", \"what\", \"what's\", \"what's\", \"what's\", \"what's\", \"what's\", \n",
    "    \"when\", \"when's\", \"where\", \"where's\", \"which\", \"which's\", \"while\", \"who\", \"who's\", \"who's\", \"why\", \n",
    "    \"why's\", \"with\", \"won't\", \"would\", \"wouldn't\"\n",
    "])"
   ]
  },
  {
   "cell_type": "code",
   "execution_count": null,
   "metadata": {},
   "outputs": [
    {
     "name": "stdout",
     "output_type": "stream",
     "text": [
      "<class 'whoosh.index.FileIndex'>\n"
     ]
    }
   ],
   "source": [
    "schema = Schema(\n",
    "    title=TEXT(stored=True),\n",
    "    author=TEXT(stored=True),\n",
    "    publication_date=ID(stored=True)\n",
    ")\n",
    "\n",
    "# Étape 2 : Créer un index\n",
    "if not os.path.exists(\"book_index2\"):\n",
    "    os.mkdir(\"book_index2\")\n",
    "index = create_in(\"book_index2\", schema)\n",
    "\n",
    "# Ajouter des documents (livres) à l'index\n",
    "writer = index.writer()\n",
    "books2 = [\n",
    "    {\"title\": \"Pride and Prejudice\", \"author\": \"Jane Austen\", \"publication_date\": \"1813\"},\n",
    "    {\"title\": \"Pride and Prejudice\", \"author\": \"Ma grand-mère\", \"publication_date\": \"1813 av J.-C.\"},\n",
    "    {\"title\": \"To Kill a Mockingbird\", \"author\": \"Harper Lee\", \"publication_date\": \"1960\"},\n",
    "    {\"title\": \"1984\", \"author\": \"George Orwell\", \"publication_date\": \"1949\"},\n",
    "    {\"title\": \"The Great Gatsby\", \"author\": \"F. Scott Fitzgerald\", \"publication_date\": \"1925\"},\n",
    "    {\"title\": \"Moby Dick\", \"author\": \"Herman Melville\", \"publication_date\": \"1851\"},\n",
    "    {\"title\": \"Les Fleurs du mal\", \"author\": \"Charles Baudelaire\", \"publication_date\": \"1857\"}\n",
    "]\n",
    "\n",
    "for book in books2:\n",
    "    writer.add_document(\n",
    "        title=book[\"title\"],\n",
    "        author=book[\"author\"],\n",
    "        publication_date=book[\"publication_date\"]\n",
    "    )\n",
    "writer.commit()"
   ]
  },
  {
   "cell_type": "code",
   "execution_count": 3,
   "metadata": {},
   "outputs": [],
   "source": [
    "def prepare_fuzzy_query(query_string):\n",
    "    # Ajouter ~ à chaque mot de la requête\n",
    "    terms = query_string.split()\n",
    "    fuzzy_terms = [term + \"~\" if term.lower() not in stop_words else term for term in terms]\n",
    "    return \" \".join(fuzzy_terms)\n",
    "\n",
    "# Étape 3 : Recherche dans l'index\n",
    "def search_books(query_string):\n",
    "    with index.searcher() as searcher:\n",
    "        # Permet de chercher dans plusieurs champs\n",
    "        parser = MultifieldParser([\"title\", \"author\"], schema=index.schema)\n",
    "        parser.add_plugin(FuzzyTermPlugin())  # Ajouter la recherche floue\n",
    "\n",
    "        fuzzy_query_string = prepare_fuzzy_query(query_string)\n",
    "        query = parser.parse(fuzzy_query_string)\n",
    "        \n",
    "        results = searcher.search(query)\n",
    "        print(f\"Résultats trouvés : {len(results)}\")\n",
    "        print(f\"Votre recherche : {query}\")\n",
    "        for result in results:\n",
    "            #print(f\"Titre : {result['title']}, Auteur : {result['author']}, Date : {result['publication_date']}\")\n",
    "            print(result)\n",
    "            print(type(result))\n"
   ]
  },
  {
   "cell_type": "code",
   "execution_count": null,
   "metadata": {},
   "outputs": [
    {
     "name": "stdout",
     "output_type": "stream",
     "text": [
      "Résultats trouvés : 1\n",
      "Votre recherche : ((title:les~ OR author:les~) AND (title:fleurs~ OR author:fleurs~))\n",
      "<Hit {'author': 'Charles Baudelaire', 'publication_date': '1857', 'title': 'Les Fleurs du mal'}>\n",
      "<class 'whoosh.searching.Hit'>\n"
     ]
    }
   ],
   "source": [
    "# Étape 4 : Tester la recherche\n",
    "if __name__ == \"__main__\":\n",
    "    while True:\n",
    "        query = input(\"Tapez votre recherche (titre, auteur ou date) : \")\n",
    "        if query.lower() in [\"exit\", \"quit\"]:\n",
    "            break\n",
    "        search_books(query)"
   ]
  },
  {
   "cell_type": "code",
   "execution_count": null,
   "metadata": {},
   "outputs": [],
   "source": []
  },
  {
   "cell_type": "code",
   "execution_count": null,
   "metadata": {},
   "outputs": [],
   "source": []
  }
 ],
 "metadata": {
  "kernelspec": {
   "display_name": "Python 3",
   "language": "python",
   "name": "python3"
  },
  "language_info": {
   "codemirror_mode": {
    "name": "ipython",
    "version": 3
   },
   "file_extension": ".py",
   "mimetype": "text/x-python",
   "name": "python",
   "nbconvert_exporter": "python",
   "pygments_lexer": "ipython3",
   "version": "3.11.5"
  }
 },
 "nbformat": 4,
 "nbformat_minor": 2
}
